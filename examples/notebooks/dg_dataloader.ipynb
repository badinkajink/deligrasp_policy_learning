{
 "cells": [
  {
   "cell_type": "code",
   "execution_count": 19,
   "metadata": {},
   "outputs": [],
   "source": [
    "import tqdm\n",
    "import torch\n",
    "from torch.utils.data import DataLoader\n",
    "import tensorflow as tf\n",
    "\n",
    "from robomimic.utils.rlds_utils import droid_dataset_transform, robomimic_transform, TorchRLDSDataset\n",
    "\n",
    "from octo.data.dataset import make_dataset_from_rlds, make_interleaved_dataset, make_single_dataset\n",
    "from octo.data.utils.data_utils import combine_dataset_statistics\n",
    "from octo.utils.spec import ModuleSpec\n",
    "\n",
    "tf.config.set_visible_devices([], \"GPU\")\n",
    "from octo.utils.spec import ModuleSpec\n",
    "import deligrasp_dataset_transform"
   ]
  },
  {
   "cell_type": "code",
   "execution_count": 2,
   "metadata": {},
   "outputs": [
    {
     "data": {
      "text/plain": [
       "<module 'robomimic.utils.rlds_utils' from 'c:\\\\workspace\\\\deligrasp_policy_learning\\\\robomimic\\\\utils\\\\rlds_utils.py'>"
      ]
     },
     "execution_count": 2,
     "metadata": {},
     "output_type": "execute_result"
    }
   ],
   "source": [
    "import importlib\n",
    "import robomimic\n",
    "import numpy as np\n",
    "importlib.reload(robomimic.utils.rlds_utils)"
   ]
  },
  {
   "cell_type": "code",
   "execution_count": 6,
   "metadata": {},
   "outputs": [],
   "source": [
    "import tensorflow_datasets as tfds\n",
    "builder = tfds.builder_from_directory(builder_dir=f\"{DATA_PATH}/{DATASET_NAMES}/1.0.0\")\n",
    "ds = tfds.load(f\"{DATASET_NAMES}\", data_dir=f\"{DATA_PATH}\", split=\"train\")\n",
    "trajectory = next(iter(next(iter(ds))['steps']))\n",
    "gripper_force = trajectory[\"action\"][7]"
   ]
  },
  {
   "cell_type": "code",
   "execution_count": 22,
   "metadata": {},
   "outputs": [],
   "source": [
    "importlib.reload(robomimic.utils.rlds_utils)\n",
    "DATA_PATH = \"C:/Users/willi/tensorflow_datasets\"    # UPDATE WITH PATH TO RLDS DATASETS\n",
    "DATASET_NAMES = \"deligrasp_dataset\"\n",
    "EXP_LOG_PATH = \"C:/workspace/deligrasp_policy_learning/logs\" # UPDATE WITH PATH TO DESIRED LOGGING DIRECTORY\n",
    "sample_weights = [1]\n",
    "\n",
    "# import tensorflow_datasets as tfds\n",
    "# builder = tfds.builder_from_directory(f\"{DATA_PATH}/1.0.0\")\n",
    "# builder.info.features\n",
    "\n",
    "BASE_DATASET_KWARGS = {\n",
    "    \"name\": \"deligrasp_dataset\",\n",
    "    \"data_dir\": DATA_PATH,\n",
    "    \"image_obs_keys\": {\"primary\": \"image\", \"secondary\": \"wrist_image\"},\n",
    "    \"proprio_obs_key\": \"state\",\n",
    "    \"language_key\": \"language_instruction\",\n",
    "    \"action_proprio_normalization_type\": \"bounds\",\n",
    "    \"action_normalization_mask\": [True] * 9 + [False] * 2,      # don't normalize final (gripper) dimension\n",
    "    \"standardize_fn\": ModuleSpec.create(\"robomimic.utils.rlds_utils:deligrasp_dataset_transform\"),\n",
    "    # \"standardize_fn\": droid_dataset_transform,\n",
    "    # \"train\": True,\n",
    "}\n",
    "\n",
    "stats = make_dataset_from_rlds(**BASE_DATASET_KWARGS, train=True)\n",
    "# combined_dataset_statistics = combine_dataset_statistics(\n",
    "#     [make_dataset_from_rlds(**dataset_kwargs, train=True)[1] for dataset_kwargs in dataset_kwargs_list]\n",
    "# )\n"
   ]
  },
  {
   "cell_type": "code",
   "execution_count": 24,
   "metadata": {},
   "outputs": [
    {
     "data": {
      "text/plain": [
       "(<DLataset element_spec={'observation': {'image_primary': TensorSpec(shape=(None,), dtype=tf.string, name=None), 'image_secondary': TensorSpec(shape=(None,), dtype=tf.string, name=None), 'proprio': TensorSpec(shape=(None, 16), dtype=tf.float32, name=None), 'timestep': TensorSpec(shape=(None,), dtype=tf.int32, name=None)}, 'task': {'language_instruction': TensorSpec(shape=(None,), dtype=tf.string, name=None)}, 'action': TensorSpec(shape=(None, 11), dtype=tf.float32, name=None), 'dataset_name': TensorSpec(shape=(None,), dtype=tf.string, name=None)}>,\n",
       " {'action': {'mean': array([ 2.59525876e-07, -8.98353755e-06,  6.26606061e-06,  1.00000000e+00,\n",
       "          -3.94223480e-06,  1.17622549e-05,  3.95866209e-06,  1.00000000e+00,\n",
       "           1.83136490e-06, -1.90163068e-02,  1.45091570e-03]),\n",
       "   'std': array([4.99562520e-05, 5.33768907e-05, 1.40456337e-04, 6.31753039e-07,\n",
       "          1.29881650e-04, 1.99309536e-04, 1.29631822e-04, 5.01916190e-07,\n",
       "          2.10918428e-04, 9.86317545e-02, 1.46769136e-02]),\n",
       "   'max': array([2.18000001e-04, 1.80999996e-04, 5.54999977e-04, 1.00000000e+00,\n",
       "          1.81084406e-03, 8.15959647e-04, 1.00499974e-03, 1.00000000e+00,\n",
       "          7.24477088e-03, 1.58472396e-02, 3.24000001e-01]),\n",
       "   'min': array([-8.47999996e-04, -1.15899998e-03, -5.90799982e-03,  9.99962986e-01,\n",
       "          -1.00508367e-03, -8.40901490e-03, -1.74993707e-03,  9.99972224e-01,\n",
       "          -7.98014458e-04, -8.93669665e-01,  0.00000000e+00]),\n",
       "   'p99': array([1.38000003e-04, 1.18999997e-04, 2.74659996e-04, 1.00000000e+00,\n",
       "          3.59610822e-04, 3.92012255e-04, 3.70659999e-04, 1.00000000e+00,\n",
       "          4.66915850e-04, 0.00000000e+00, 3.67874987e-02]),\n",
       "   'p01': array([-1.49000000e-04, -1.51659996e-04, -2.42660000e-04,  9.99999881e-01,\n",
       "          -3.70678186e-04, -3.07659206e-04, -3.59659993e-04,  9.99999821e-01,\n",
       "          -4.34979251e-04, -7.07307884e-01,  0.00000000e+00]),\n",
       "   'mask': array([ True,  True,  True,  True,  True,  True,  True,  True,  True,\n",
       "          False, False])},\n",
       "  'num_transitions': array(4435),\n",
       "  'num_trajectories': array(130),\n",
       "  'proprio': {'mean': array([ 1.01171303, -1.31224215,  1.76707673, -2.57167125, -1.41615617,\n",
       "          -0.30079302, -0.19634929, -0.54645783,  0.30237213, -2.51731133,\n",
       "          -0.02409072,  1.04337597,  0.57326198,  0.02742758,  0.4693388 ,\n",
       "           0.        ]),\n",
       "   'std': array([0.13072845, 0.23024239, 0.20063818, 0.35004225, 0.2672601 ,\n",
       "          0.46253482, 0.0659651 , 0.07391249, 0.07763904, 0.33785084,\n",
       "          0.09686311, 2.61964035, 0.34806189, 0.05344046, 1.32356787,\n",
       "          0.        ]),\n",
       "   'max': array([ 1.60398901, -0.85035598,  2.5169909 , -1.45508695, -0.76458901,\n",
       "           1.30379105,  0.079283  , -0.33920699,  0.55948699,  3.14014101,\n",
       "           0.26982599,  3.14155197,  1.01584721,  0.324     , 13.03741074,\n",
       "           0.        ]),\n",
       "   'min': array([ 0.62804401, -2.04883099,  1.17666197, -3.84334803, -2.28298497,\n",
       "          -1.63704503, -0.35382101, -0.69612801,  0.17777801, -3.1407361 ,\n",
       "          -0.52094698, -3.14156389, -0.01819494,  0.        ,  0.        ,\n",
       "           0.        ]),\n",
       "   'p99': array([ 1.39035483, -0.92975801,  2.23986258, -1.77026485, -0.85458126,\n",
       "           0.90254934,  0.00963384, -0.39100087,  0.49514204, -1.95598969,\n",
       "           0.16303398,  3.1389732 ,  1.        ,  0.324     ,  7.64366388,\n",
       "           0.        ]),\n",
       "   'p01': array([ 0.68332209, -1.84950789,  1.27181602, -3.55734823, -2.067327  ,\n",
       "          -1.38556194, -0.32398603, -0.69222353,  0.19542294, -2.96455491,\n",
       "          -0.32797139, -3.13800097,  0.030142  ,  0.        ,  0.        ,\n",
       "           0.        ])}})"
      ]
     },
     "execution_count": 24,
     "metadata": {},
     "output_type": "execute_result"
    }
   ],
   "source": [
    "stats"
   ]
  },
  {
   "cell_type": "code",
   "execution_count": 25,
   "metadata": {},
   "outputs": [
    {
     "ename": "TypeError",
     "evalue": "apply_trajectory_transforms() got an unexpected keyword argument 'future_action_window_size'",
     "output_type": "error",
     "traceback": [
      "\u001b[1;31m---------------------------------------------------------------------------\u001b[0m",
      "\u001b[1;31mTypeError\u001b[0m                                 Traceback (most recent call last)",
      "Cell \u001b[1;32mIn[25], line 1\u001b[0m\n\u001b[1;32m----> 1\u001b[0m dataset \u001b[38;5;241m=\u001b[39m \u001b[43mmake_single_dataset\u001b[49m\u001b[43m(\u001b[49m\n\u001b[0;32m      2\u001b[0m \u001b[43m    \u001b[49m\u001b[43mBASE_DATASET_KWARGS\u001b[49m\u001b[43m,\u001b[49m\n\u001b[0;32m      3\u001b[0m \u001b[43m    \u001b[49m\u001b[43mtrain\u001b[49m\u001b[38;5;241;43m=\u001b[39;49m\u001b[38;5;28;43;01mTrue\u001b[39;49;00m\u001b[43m,\u001b[49m\n\u001b[0;32m      4\u001b[0m \u001b[43m    \u001b[49m\u001b[43mtraj_transform_kwargs\u001b[49m\u001b[38;5;241;43m=\u001b[39;49m\u001b[38;5;28;43mdict\u001b[39;49m\u001b[43m(\u001b[49m\n\u001b[0;32m      5\u001b[0m \u001b[43m        \u001b[49m\u001b[43mwindow_size\u001b[49m\u001b[38;5;241;43m=\u001b[39;49m\u001b[38;5;241;43m2\u001b[39;49m\u001b[43m,\u001b[49m\n\u001b[0;32m      6\u001b[0m \u001b[43m        \u001b[49m\u001b[43mfuture_action_window_size\u001b[49m\u001b[38;5;241;43m=\u001b[39;49m\u001b[38;5;241;43m15\u001b[39;49m\u001b[43m,\u001b[49m\n\u001b[0;32m      7\u001b[0m \u001b[43m        \u001b[49m\u001b[43msubsample_length\u001b[49m\u001b[38;5;241;43m=\u001b[39;49m\u001b[38;5;241;43m100\u001b[39;49m\u001b[43m,\u001b[49m\n\u001b[0;32m      8\u001b[0m \u001b[43m        \u001b[49m\u001b[43mskip_unlabeled\u001b[49m\u001b[38;5;241;43m=\u001b[39;49m\u001b[38;5;28;43;01mTrue\u001b[39;49;00m\u001b[43m,\u001b[49m\u001b[43m            \u001b[49m\u001b[38;5;66;43;03m# skip all trajectories without language annotation\u001b[39;49;00m\n\u001b[0;32m      9\u001b[0m \u001b[43m    \u001b[49m\u001b[43m)\u001b[49m\u001b[43m,\u001b[49m\n\u001b[0;32m     10\u001b[0m \u001b[43m    \u001b[49m\u001b[43mframe_transform_kwargs\u001b[49m\u001b[38;5;241;43m=\u001b[39;49m\u001b[38;5;28;43mdict\u001b[39;49m\u001b[43m(\u001b[49m\n\u001b[0;32m     11\u001b[0m \u001b[43m        \u001b[49m\u001b[43mimage_augment_kwargs\u001b[49m\u001b[38;5;241;43m=\u001b[39;49m\u001b[38;5;28;43mdict\u001b[39;49m\u001b[43m(\u001b[49m\n\u001b[0;32m     12\u001b[0m \u001b[43m        \u001b[49m\u001b[43m)\u001b[49m\u001b[43m,\u001b[49m\n\u001b[0;32m     13\u001b[0m \u001b[43m        \u001b[49m\u001b[43mresize_size\u001b[49m\u001b[38;5;241;43m=\u001b[39;49m\u001b[38;5;28;43mdict\u001b[39;49m\u001b[43m(\u001b[49m\n\u001b[0;32m     14\u001b[0m \u001b[43m            \u001b[49m\u001b[43mprimary\u001b[49m\u001b[38;5;241;43m=\u001b[39;49m\u001b[43m[\u001b[49m\u001b[38;5;241;43m128\u001b[39;49m\u001b[43m,\u001b[49m\u001b[43m \u001b[49m\u001b[38;5;241;43m128\u001b[39;49m\u001b[43m]\u001b[49m\u001b[43m,\u001b[49m\n\u001b[0;32m     15\u001b[0m \u001b[43m            \u001b[49m\u001b[43msecondary\u001b[49m\u001b[38;5;241;43m=\u001b[39;49m\u001b[43m[\u001b[49m\u001b[38;5;241;43m128\u001b[39;49m\u001b[43m,\u001b[49m\u001b[43m \u001b[49m\u001b[38;5;241;43m128\u001b[39;49m\u001b[43m]\u001b[49m\u001b[43m,\u001b[49m\n\u001b[0;32m     16\u001b[0m \u001b[43m        \u001b[49m\u001b[43m)\u001b[49m\u001b[43m,\u001b[49m\n\u001b[0;32m     17\u001b[0m \u001b[43m        \u001b[49m\u001b[43mnum_parallel_calls\u001b[49m\u001b[38;5;241;43m=\u001b[39;49m\u001b[38;5;241;43m200\u001b[39;49m\u001b[43m,\u001b[49m\n\u001b[0;32m     18\u001b[0m \u001b[43m    \u001b[49m\u001b[43m)\u001b[49m\n\u001b[0;32m     19\u001b[0m \u001b[43m)\u001b[49m\n",
      "File \u001b[1;32mC:\\workspace\\octo\\octo\\data\\dataset.py:477\u001b[0m, in \u001b[0;36mmake_single_dataset\u001b[1;34m(dataset_kwargs, train, traj_transform_kwargs, frame_transform_kwargs)\u001b[0m\n\u001b[0;32m    465\u001b[0m \u001b[38;5;250m\u001b[39m\u001b[38;5;124;03m\"\"\"Creates a single dataset from kwargs. Returns a dataset of trajectories.\u001b[39;00m\n\u001b[0;32m    466\u001b[0m \n\u001b[0;32m    467\u001b[0m \u001b[38;5;124;03mArgs:\u001b[39;00m\n\u001b[1;32m   (...)\u001b[0m\n\u001b[0;32m    471\u001b[0m \u001b[38;5;124;03m    frame_transform_kwargs: kwargs passed to 'get_frame_transforms'.\u001b[39;00m\n\u001b[0;32m    472\u001b[0m \u001b[38;5;124;03m\"\"\"\u001b[39;00m\n\u001b[0;32m    473\u001b[0m dataset, dataset_statistics \u001b[38;5;241m=\u001b[39m make_dataset_from_rlds(\n\u001b[0;32m    474\u001b[0m     \u001b[38;5;241m*\u001b[39m\u001b[38;5;241m*\u001b[39mdataset_kwargs,\n\u001b[0;32m    475\u001b[0m     train\u001b[38;5;241m=\u001b[39mtrain,\n\u001b[0;32m    476\u001b[0m )\n\u001b[1;32m--> 477\u001b[0m dataset \u001b[38;5;241m=\u001b[39m apply_trajectory_transforms(dataset, \u001b[38;5;241m*\u001b[39m\u001b[38;5;241m*\u001b[39mtraj_transform_kwargs, train\u001b[38;5;241m=\u001b[39mtrain)\n\u001b[0;32m    478\u001b[0m dataset \u001b[38;5;241m=\u001b[39m apply_frame_transforms(dataset, \u001b[38;5;241m*\u001b[39m\u001b[38;5;241m*\u001b[39mframe_transform_kwargs, train\u001b[38;5;241m=\u001b[39mtrain)\n\u001b[0;32m    480\u001b[0m \u001b[38;5;66;03m# this seems to reduce memory usage without affecting speed\u001b[39;00m\n",
      "\u001b[1;31mTypeError\u001b[0m: apply_trajectory_transforms() got an unexpected keyword argument 'future_action_window_size'"
     ]
    }
   ],
   "source": [
    "dataset = make_single_dataset(\n",
    "    BASE_DATASET_KWARGS,\n",
    "    train=True,\n",
    "    traj_transform_kwargs=dict(\n",
    "        window_size=2,\n",
    "        window_size=15,\n",
    "        subsample_length=100,\n",
    "        skip_unlabeled=True,            # skip all trajectories without language annotation\n",
    "    ),\n",
    "    frame_transform_kwargs=dict(\n",
    "        image_augment_kwargs=dict(\n",
    "        ),\n",
    "        resize_size=dict(\n",
    "            primary=[128, 128],\n",
    "            secondary=[128, 128],\n",
    "        ),\n",
    "        num_parallel_calls=200,\n",
    "    )\n",
    ")"
   ]
  }
 ],
 "metadata": {
  "kernelspec": {
   "display_name": "octo",
   "language": "python",
   "name": "python3"
  },
  "language_info": {
   "codemirror_mode": {
    "name": "ipython",
    "version": 3
   },
   "file_extension": ".py",
   "mimetype": "text/x-python",
   "name": "python",
   "nbconvert_exporter": "python",
   "pygments_lexer": "ipython3",
   "version": "3.10.15"
  }
 },
 "nbformat": 4,
 "nbformat_minor": 2
}
